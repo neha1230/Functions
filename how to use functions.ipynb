{
 "cells": [
  {
   "cell_type": "code",
   "execution_count": 1,
   "metadata": {},
   "outputs": [
    {
     "name": "stdout",
     "output_type": "stream",
     "text": [
      "hello\n"
     ]
    }
   ],
   "source": [
    "if True:\n",
    "  print(\"hello\")\n",
    "    "
   ]
  },
  {
   "cell_type": "code",
   "execution_count": 2,
   "metadata": {},
   "outputs": [
    {
     "name": "stdout",
     "output_type": "stream",
     "text": [
      " dog is hungry\n"
     ]
    }
   ],
   "source": [
    "hungry = True\n",
    "if hungry:\n",
    "  print(\" dog is hungry\")"
   ]
  },
  {
   "cell_type": "code",
   "execution_count": 3,
   "metadata": {},
   "outputs": [
    {
     "name": "stdout",
     "output_type": "stream",
     "text": [
      "enter your name\n"
     ]
    }
   ],
   "source": [
    "person ='name'\n",
    "if person == 'none':\n",
    "  print(\"who r u\")\n",
    "else :\n",
    "  print(\"enter your name\")"
   ]
  },
  {
   "cell_type": "code",
   "execution_count": 5,
   "metadata": {},
   "outputs": [
    {
     "name": "stdout",
     "output_type": "stream",
     "text": [
      "Hi welcome to the sandwich shop, Please select a sandwich\n",
      " 'c' for cheese or 'v' for veggie specialc\n",
      "\n",
      "please select the cheese.\n",
      "'c' for cheddar and 'm' for machengo:m\n",
      "\n",
      "here is your machengo cheese sandwich. Thank you\n",
      "\n",
      "Goodbye!\n"
     ]
    }
   ],
   "source": [
    "print(\"Hi welcome to the sandwich shop, Please select a sandwich\")\n",
    "sandwich_type = input(\" 'c' for cheese or 'v' for veggie special\")\n",
    "print()\n",
    "if sandwich_type.lower() == 'c':\n",
    "    print(\"please select the cheese.\")\n",
    "    cheese_type = input( \"'c' for cheddar and 'm' for machengo:\")\n",
    "    print()\n",
    "    if cheese_type.lower() == 'c':\n",
    "        print(\"here is your cheddar cheese sandwich. Thank you\")\n",
    "    elif cheese_type.lower()=='m':\n",
    "        print(\"here is your machengo cheese sandwich. Thank you\")\n",
    "    else:\n",
    "        print(\" Sorry we do not have \", cheese_type, \"choice today\" )\n",
    "elif sandwich_type.lower() == \"v\":\n",
    "    print(\"Here is your Veggie Special. Thank you.\")    \n",
    "else:\n",
    "    print(\"Sorry, we don't have\", sandwich_type, \"choice today.\")\n",
    "print()\n",
    "print(\"Goodbye!\")"
   ]
  },
  {
   "cell_type": "code",
   "execution_count": 6,
   "metadata": {},
   "outputs": [
    {
     "name": "stdout",
     "output_type": "stream",
     "text": [
      "this is a problem of even and odd\n",
      " enter a number6\n",
      " this is even number\n"
     ]
    }
   ],
   "source": [
    "print(\"this is a problem of even and odd\")\n",
    "number= int(input(\" enter a number\"))\n",
    "\n",
    "if number%2==0:\n",
    "    print(\" this is even number\")\n",
    "else:\n",
    "    print(\"this is odd number\")"
   ]
  },
  {
   "cell_type": "code",
   "execution_count": 11,
   "metadata": {},
   "outputs": [
    {
     "name": "stdout",
     "output_type": "stream",
     "text": [
      "Enter Human Age in Years:4\n",
      "29 is the age in dog years\n"
     ]
    }
   ],
   "source": [
    "hmn_age = eval(input(\"Enter Human Age in Years:\"))\n",
    "if hmn_age <=0:\n",
    "    print(\"Invalid Input enter a positive number\")\n",
    "elif hmn_age<=2:\n",
    "    hmn_age = hmn_age * 10.5\n",
    "    print(hmn_age, \"is the age in dog years\")\n",
    "else:\n",
    "    hmn_age = 21 + (hmn_age-2)*4\n",
    "    print(hmn_age, \"is the age in dog years\")\n",
    "    \n",
    "    \n",
    "    "
   ]
  },
  {
   "cell_type": "code",
   "execution_count": null,
   "metadata": {},
   "outputs": [],
   "source": []
  }
 ],
 "metadata": {
  "kernelspec": {
   "display_name": "Python 3",
   "language": "python",
   "name": "python3"
  },
  "language_info": {
   "codemirror_mode": {
    "name": "ipython",
    "version": 3
   },
   "file_extension": ".py",
   "mimetype": "text/x-python",
   "name": "python",
   "nbconvert_exporter": "python",
   "pygments_lexer": "ipython3",
   "version": "3.6.5"
  }
 },
 "nbformat": 4,
 "nbformat_minor": 2
}
