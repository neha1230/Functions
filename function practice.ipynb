{
 "cells": [
  {
   "cell_type": "code",
   "execution_count": null,
   "metadata": {},
   "outputs": [],
   "source": [
    "def hello (str1= 'kunal'):\n",
    "    print(\"hello\" + \" \" , str1)\n",
    "    "
   ]
  },
  {
   "cell_type": "code",
   "execution_count": null,
   "metadata": {},
   "outputs": [],
   "source": [
    "hello()\n"
   ]
  },
  {
   "cell_type": "markdown",
   "metadata": {},
   "source": [
    "# piglati and hatcolors\n",
    "\n",
    "Diffrence between print and return"
   ]
  },
  {
   "cell_type": "code",
   "execution_count": null,
   "metadata": {},
   "outputs": [],
   "source": [
    "def thirty (n):\n",
    "    return str (35)+'n'"
   ]
  },
  {
   "cell_type": "code",
   "execution_count": null,
   "metadata": {},
   "outputs": [],
   "source": [
    "thirty ('abc')"
   ]
  },
  {
   "cell_type": "code",
   "execution_count": null,
   "metadata": {},
   "outputs": [],
   "source": [
    "# PygLatin Converter Code\n",
    "pyg = 'ay'\n",
    "\n"
   ]
  },
  {
   "cell_type": "code",
   "execution_count": null,
   "metadata": {},
   "outputs": [],
   "source": [
    "end_letter='ay'\n",
    "\n",
    "original = (input(\"enter alphabet\"))\n",
    "if orignal(len) > 0:\n",
    "    word = original.lower()\n",
    "    first = word[0]\n",
    "    if first == ('a' or 'e' or 'i' or 'o' or 'u'):\n",
    "        new_word = word + pyg\n",
    "        print (\"new_word\")\n",
    "    else:\n",
    "        new_word = word[1:] + first + pyg\n",
    "        print (\"new_word\")\n",
    "else:\n",
    "    print (\"empty\")\n",
    "    "
   ]
  },
  {
   "cell_type": "code",
   "execution_count": null,
   "metadata": {},
   "outputs": [],
   "source": [
    "str='my name'\n",
    "str."
   ]
  },
  {
   "cell_type": "markdown",
   "metadata": {},
   "source": [
    "# Diffrence between return and print\n",
    "\n",
    "On a more expansive note, print will not in any way affect a function. It is simply there for the human user's benefit. It is very useful for understanding how a program works and can be used in debugging to check various values in a program without interrupting the program.\n",
    "\n",
    "return is the main way that a function returns a value. All functions will return a value, and if there is no return statement (or yield but don't worry about that yet), it will return None. The value that is returned by a function can then be further used as an argument passed to another function, stored as a variable, or just printed for the benefit of the human user.\n",
    "\n",
    "\n",
    "\n"
   ]
  },
  {
   "cell_type": "code",
   "execution_count": null,
   "metadata": {},
   "outputs": [],
   "source": [
    "# example of print and return\n",
    "\n",
    "def function_that_prints():\n",
    "    print (\"I printed\")\n",
    "\n",
    "def function_that_returns():\n",
    "    return \"I returned\"\n",
    "\n",
    "f1 = function_that_prints()\n",
    "f2 = function_that_returns()\n",
    "print (\"Now let us see what the values of f1 and f2 are\")\n",
    "print (\"f1\", f1)\n",
    "print (\"f2\", f2)\n"
   ]
  },
  {
   "cell_type": "code",
   "execution_count": null,
   "metadata": {},
   "outputs": [],
   "source": [
    "def pig_latin(sentence):\n",
    "    result = \"\"\n",
    "    for word in sentence.split():\n",
    "        result += word[1:] + word[0] + \"AY \"\n",
    "    return \"result\""
   ]
  },
  {
   "cell_type": "code",
   "execution_count": null,
   "metadata": {},
   "outputs": [],
   "source": [
    "VOWELS = ('a','e','i','o','u','A','E','I','O','U')\n",
    "word = input(\"Welcome to the Pig Latin translator, simply enter a word and the translator will return the word in Pig Latin. Insert your word below. \\n> \")\n",
    " \n",
    "def pigLatin(word):\n",
    "    if word[0] in VOWELS:\n",
    "        print (word + 'ay')\n",
    "    else:\n",
    "        print(word[1:])\n",
    "        print (word[1:] + word[0]+'ay')\n",
    "pigLatin(word)\n",
    "\n",
    "playAgain = input(\"Would you like to play again? \\n> \")\n",
    " \n",
    "def secondGame(playAgain):\n",
    "    if playAgain == ('yes'):\n",
    "        second = input(\"Enter your next word below \\n> \")\n",
    "        pigLatin(second)\n",
    "    elif playAgain == ('no'):\n",
    "        print ('Thanks for playing!')\n",
    "    else:\n",
    "        print ('Error: Please respond with a yes or no answer.')\n",
    " \n",
    "secondGame(playAgain)\n"
   ]
  },
  {
   "cell_type": "code",
   "execution_count": null,
   "metadata": {},
   "outputs": [],
   "source": [
    "def sayHello():\n",
    "    print('Hello World!') \n",
    "sayHello() \n",
    "sayHello()"
   ]
  },
  {
   "cell_type": "code",
   "execution_count": null,
   "metadata": {},
   "outputs": [],
   "source": [
    "def printMax(a, b):\n",
    "    if a > b:\n",
    "        print(a, 'is maximum')\n",
    "    elif a == b:\n",
    "        print(a, 'is equal to', b)\n",
    "    else:\n",
    "        print(b, 'is maximum')\n",
    "printMax(3, 4)"
   ]
  },
  {
   "cell_type": "code",
   "execution_count": null,
   "metadata": {},
   "outputs": [],
   "source": [
    "x = 50\n",
    "def func(x):\n",
    "    print('x is', x)\n",
    "    x = 2\n",
    "    print('Changed local x to', x)\n",
    "func(x)\n",
    "print('x is now', x)"
   ]
  },
  {
   "cell_type": "code",
   "execution_count": null,
   "metadata": {},
   "outputs": [],
   "source": [
    "x = 50\n",
    "def func():\n",
    "    global x\n",
    "    print('x is', x)\n",
    "    x = 2\n",
    "    print('Changed global x to', x)\n",
    "func()\n",
    "print('Value of x is', x)"
   ]
  },
  {
   "cell_type": "code",
   "execution_count": null,
   "metadata": {},
   "outputs": [],
   "source": [
    "def func(a, b=5, c=10):\n",
    "    print('a is', a, 'and b is', b, 'and c is', c)\n",
    " \n",
    "func(3, 7)\n",
    "func(25, c = 24)\n",
    "func(c = 50, a = 100)"
   ]
  },
  {
   "cell_type": "code",
   "execution_count": 23,
   "metadata": {},
   "outputs": [
    {
     "name": "stdout",
     "output_type": "stream",
     "text": [
      "3\n"
     ]
    }
   ],
   "source": [
    "def maximum(x, y):\n",
    "    if x > y:\n",
    "        return x\n",
    "    elif x == y:\n",
    "        return 'The numbers are equal'\n",
    "    else:\n",
    "        return y\n",
    " \n",
    "print(maximum(2, 3))"
   ]
  },
  {
   "cell_type": "code",
   "execution_count": null,
   "metadata": {},
   "outputs": [],
   "source": [
    "def add_num(x,y):\n",
    "    a=x+y\n",
    "    print(a)\n",
    "    \n",
    "def add_num1(x,y):\n",
    "    a=x+y\n",
    "    return a\n",
    "\n",
    "b=add_num(2,3)\n",
    "b\n",
    "c=add_num1(2,3)\n",
    "c\n",
    "print(b,c)\n"
   ]
  },
  {
   "cell_type": "code",
   "execution_count": null,
   "metadata": {},
   "outputs": [],
   "source": [
    "a= None\n",
    "b= None\n",
    "a == b\n",
    "a= 2"
   ]
  },
  {
   "cell_type": "code",
   "execution_count": 6,
   "metadata": {},
   "outputs": [],
   "source": [
    "x= 25\n",
    "def printer():\n",
    "    #x=50\n",
    "    return x\n",
    "\n",
    "#print(x)\n",
    "#print(printer(x))"
   ]
  },
  {
   "cell_type": "code",
   "execution_count": 7,
   "metadata": {},
   "outputs": [
    {
     "name": "stdout",
     "output_type": "stream",
     "text": [
      "25\n"
     ]
    }
   ],
   "source": [
    "print (x)"
   ]
  },
  {
   "cell_type": "code",
   "execution_count": 9,
   "metadata": {},
   "outputs": [
    {
     "name": "stdout",
     "output_type": "stream",
     "text": [
      "50\n"
     ]
    }
   ],
   "source": [
    "print(printer())"
   ]
  },
  {
   "cell_type": "code",
   "execution_count": 21,
   "metadata": {},
   "outputs": [
    {
     "name": "stdout",
     "output_type": "stream",
     "text": [
      "hello sammy\n"
     ]
    }
   ],
   "source": [
    "name = 'This is global name'\n",
    "\n",
    "def greet():\n",
    "    #name= \" \"\n",
    "    name= 'sammy'\n",
    "    #name= None\n",
    "    \n",
    "    def hello():\n",
    "        print ('hello'+ \" \" + name)\n",
    "        \n",
    "    hello()\n",
    "greet()"
   ]
  },
  {
   "cell_type": "code",
   "execution_count": 18,
   "metadata": {},
   "outputs": [
    {
     "name": "stdout",
     "output_type": "stream",
     "text": [
      "This is global name\n"
     ]
    }
   ],
   "source": [
    "print(name) # here it calls global variable"
   ]
  },
  {
   "cell_type": "code",
   "execution_count": 16,
   "metadata": {},
   "outputs": [
    {
     "name": "stdout",
     "output_type": "stream",
     "text": [
      "x is 50\n",
      "Changed local x to 2\n",
      "x is now 50\n"
     ]
    }
   ],
   "source": [
    "x = 50\n",
    "def func(x):\n",
    "    print('x is', x)\n",
    "    x = 2\n",
    "    print('Changed local x to', x)\n",
    "func(x)\n",
    "print('x is now', x)"
   ]
  },
  {
   "cell_type": "code",
   "execution_count": 22,
   "metadata": {},
   "outputs": [
    {
     "name": "stdout",
     "output_type": "stream",
     "text": [
      "Before calling func(), x is:  50\n",
      "This function is now using the global x!\n",
      "Because of global x is:  50\n",
      "Ran func(), changed global x to 2\n",
      "Value of x (outside of func()) is:  2\n"
     ]
    }
   ],
   "source": [
    "x = 50\n",
    "\n",
    "def func():\n",
    "    global x\n",
    "    print('This function is now using the global x!')\n",
    "    print('Because of global x is: ', x)\n",
    "    x = 2\n",
    "    print('Ran func(), changed global x to', x)\n",
    "\n",
    "print('Before calling func(), x is: ', x)\n",
    "func()\n",
    "print('Value of x (outside of func()) is: ', x)"
   ]
  },
  {
   "cell_type": "code",
   "execution_count": 26,
   "metadata": {},
   "outputs": [
    {
     "name": "stdout",
     "output_type": "stream",
     "text": [
      "False True False True\n"
     ]
    }
   ],
   "source": [
    "def near_hundred(n):\n",
    "    if (abs(100 - n) or abs(200 - n)) <= 10:\n",
    "        return True\n",
    "    else:\n",
    "        return False\n",
    "    \n",
    "    \n",
    "a= near_hundred(150)\n",
    "a\n",
    "b=near_hundred(104)\n",
    "b\n",
    "c=near_hundred(209)\n",
    "c\n",
    "d=near_hundred(90)\n",
    "d\n",
    "\n",
    "print(a,b,c,d)"
   ]
  },
  {
   "cell_type": "code",
   "execution_count": 10,
   "metadata": {},
   "outputs": [
    {
     "name": "stdout",
     "output_type": "stream",
     "text": [
      "True False False True\n"
     ]
    }
   ],
   "source": [
    "def has22(nums):\n",
    "    for x in range(len(nums)-1):\n",
    "        if (nums[x] == 2) and (nums[x+1] == 2):\n",
    "            return True\n",
    "    return False\n",
    "\n",
    "a=has22([1, 2, 2])\n",
    "b=has22([1, 2, 1, 2])\n",
    "c=has22([2, 1, 2])\n",
    "d=has22([2,1,2,2,2,2,2])\n",
    "print(a,b,c,d)\n"
   ]
  },
  {
   "cell_type": "code",
   "execution_count": 19,
   "metadata": {},
   "outputs": [
    {
     "name": "stdout",
     "output_type": "stream",
     "text": [
      "0\n"
     ]
    }
   ],
   "source": [
    "def double(str):\n",
    "    for i in range(len(str)):\n",
    "        return i * 2\n",
    "a= double('print')\n",
    "print(a)"
   ]
  },
  {
   "cell_type": "code",
   "execution_count": 27,
   "metadata": {},
   "outputs": [
    {
     "name": "stdout",
     "output_type": "stream",
     "text": [
      "123abc123abc\n"
     ]
    }
   ],
   "source": [
    "a='hello'\n",
    "print(\"123abc\" * 2)"
   ]
  },
  {
   "cell_type": "code",
   "execution_count": null,
   "metadata": {},
   "outputs": [],
   "source": []
  }
 ],
 "metadata": {
  "kernelspec": {
   "display_name": "Python 3",
   "language": "python",
   "name": "python3"
  },
  "language_info": {
   "codemirror_mode": {
    "name": "ipython",
    "version": 3
   },
   "file_extension": ".py",
   "mimetype": "text/x-python",
   "name": "python",
   "nbconvert_exporter": "python",
   "pygments_lexer": "ipython3",
   "version": "3.6.5"
  }
 },
 "nbformat": 4,
 "nbformat_minor": 2
}
